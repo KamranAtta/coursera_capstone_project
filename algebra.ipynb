{
 "metadata": {
  "language_info": {
   "codemirror_mode": {
    "name": "ipython",
    "version": 3
   },
   "file_extension": ".py",
   "mimetype": "text/x-python",
   "name": "python",
   "nbconvert_exporter": "python",
   "pygments_lexer": "ipython3",
   "version": "3.8.5-final"
  },
  "orig_nbformat": 2,
  "kernelspec": {
   "name": "python38264bitc4029bc5c83042b7816109046130ba85",
   "display_name": "Python 3.8.2 64-bit"
  }
 },
 "nbformat": 4,
 "nbformat_minor": 2,
 "cells": [
  {
   "cell_type": "code",
   "execution_count": 15,
   "metadata": {},
   "outputs": [
    {
     "output_type": "stream",
     "name": "stdout",
     "text": [
      "[[ 28.  64.]\n [ 67. 181.]] \n ----------------\n [[ 28.  64.]\n [ 67. 181.]]\n"
     ]
    }
   ],
   "source": [
    "import numpy as np\n",
    "x = np.array([[1., 2., 3.], [4., 5., 6.]])\n",
    "y = np.array([[6., 23.], [-1, 7], [8, 9]])\n",
    "print(x.dot(y),'\\n','----------------\\n',np.dot(x,y)) # SAME DOT OPERATION USING MATRICES AND NUMPY"
   ]
  },
  {
   "cell_type": "code",
   "execution_count": 20,
   "metadata": {},
   "outputs": [
    {
     "output_type": "execute_result",
     "data": {
      "text/plain": [
       "array([[1., 1., 1.],\n",
       "       [1., 1., 1.],\n",
       "       [1., 1., 1.]])"
      ]
     },
     "metadata": {},
     "execution_count": 20
    }
   ],
   "source": [
    "np.ones((3,3))"
   ]
  },
  {
   "cell_type": "code",
   "execution_count": 48,
   "metadata": {},
   "outputs": [
    {
     "output_type": "execute_result",
     "data": {
      "text/plain": [
       "             date location  new_cases  new_deaths  total_cases  total_deaths  \\\n",
       "59790  2020-12-05    World   640593.0     10198.0   66540034.0     1528868.0   \n",
       "\n",
       "       weekly_cases  weekly_deaths  biweekly_cases  biweekly_deaths  \n",
       "59790     4253632.0        76016.0       8333284.0         147329.0  "
      ],
      "text/html": "<div>\n<style scoped>\n    .dataframe tbody tr th:only-of-type {\n        vertical-align: middle;\n    }\n\n    .dataframe tbody tr th {\n        vertical-align: top;\n    }\n\n    .dataframe thead th {\n        text-align: right;\n    }\n</style>\n<table border=\"1\" class=\"dataframe\">\n  <thead>\n    <tr style=\"text-align: right;\">\n      <th></th>\n      <th>date</th>\n      <th>location</th>\n      <th>new_cases</th>\n      <th>new_deaths</th>\n      <th>total_cases</th>\n      <th>total_deaths</th>\n      <th>weekly_cases</th>\n      <th>weekly_deaths</th>\n      <th>biweekly_cases</th>\n      <th>biweekly_deaths</th>\n    </tr>\n  </thead>\n  <tbody>\n    <tr>\n      <th>59790</th>\n      <td>2020-12-05</td>\n      <td>World</td>\n      <td>640593.0</td>\n      <td>10198.0</td>\n      <td>66540034.0</td>\n      <td>1528868.0</td>\n      <td>4253632.0</td>\n      <td>76016.0</td>\n      <td>8333284.0</td>\n      <td>147329.0</td>\n    </tr>\n  </tbody>\n</table>\n</div>"
     },
     "metadata": {},
     "execution_count": 48
    }
   ],
   "source": [
    "import pandas as pd \n",
    "df = pd.read_csv('/home/kamran/Desktop/corona.csv')\n",
    "# df.head()\n",
    "# df.info()\n",
    "df.describe()\n",
    "df['total_cases'].max()\n",
    "df.tail(50)\n",
    "np.unique(df['total_cases'][df['total_cases']>100000])\n",
    "# df['total_cases'].fillna(df['total_cases'].mean(),inplace=True)\n",
    "df['total_cases'].head(30)\n",
    "df[df.index==59790]"
   ]
  },
  {
   "cell_type": "code",
   "execution_count": 63,
   "metadata": {},
   "outputs": [],
   "source": [
    "# df[df['location']=='World']\n",
    "# df[['location','total_cases']][df['total_cases'] == df['total_cases'].max()]\n",
    "df = df[df['location']!='World']"
   ]
  },
  {
   "cell_type": "code",
   "execution_count": 69,
   "metadata": {},
   "outputs": [
    {
     "output_type": "execute_result",
     "data": {
      "text/plain": [
       "            location  new_cases  new_deaths  total_deaths  total_cases\n",
       "56927  United States        NaN         NaN           NaN          1.0\n",
       "56928  United States        0.0         0.0           NaN          1.0\n",
       "56929  United States        1.0         0.0           NaN          2.0\n",
       "56930  United States        0.0         0.0           NaN          2.0\n",
       "56931  United States        3.0         0.0           NaN          5.0\n",
       "...              ...        ...         ...           ...          ...\n",
       "57241  United States   180637.0      2597.0      270642.0   13721858.0\n",
       "57242  United States   200055.0      2804.0      273446.0   13921913.0\n",
       "57243  United States   217664.0      2879.0      276325.0   14139577.0\n",
       "57244  United States   227885.0      2607.0      278932.0   14367462.0\n",
       "57245  United States   213875.0      2254.0      281186.0   14581337.0\n",
       "\n",
       "[319 rows x 5 columns]"
      ],
      "text/html": "<div>\n<style scoped>\n    .dataframe tbody tr th:only-of-type {\n        vertical-align: middle;\n    }\n\n    .dataframe tbody tr th {\n        vertical-align: top;\n    }\n\n    .dataframe thead th {\n        text-align: right;\n    }\n</style>\n<table border=\"1\" class=\"dataframe\">\n  <thead>\n    <tr style=\"text-align: right;\">\n      <th></th>\n      <th>location</th>\n      <th>new_cases</th>\n      <th>new_deaths</th>\n      <th>total_deaths</th>\n      <th>total_cases</th>\n    </tr>\n  </thead>\n  <tbody>\n    <tr>\n      <th>56927</th>\n      <td>United States</td>\n      <td>NaN</td>\n      <td>NaN</td>\n      <td>NaN</td>\n      <td>1.0</td>\n    </tr>\n    <tr>\n      <th>56928</th>\n      <td>United States</td>\n      <td>0.0</td>\n      <td>0.0</td>\n      <td>NaN</td>\n      <td>1.0</td>\n    </tr>\n    <tr>\n      <th>56929</th>\n      <td>United States</td>\n      <td>1.0</td>\n      <td>0.0</td>\n      <td>NaN</td>\n      <td>2.0</td>\n    </tr>\n    <tr>\n      <th>56930</th>\n      <td>United States</td>\n      <td>0.0</td>\n      <td>0.0</td>\n      <td>NaN</td>\n      <td>2.0</td>\n    </tr>\n    <tr>\n      <th>56931</th>\n      <td>United States</td>\n      <td>3.0</td>\n      <td>0.0</td>\n      <td>NaN</td>\n      <td>5.0</td>\n    </tr>\n    <tr>\n      <th>...</th>\n      <td>...</td>\n      <td>...</td>\n      <td>...</td>\n      <td>...</td>\n      <td>...</td>\n    </tr>\n    <tr>\n      <th>57241</th>\n      <td>United States</td>\n      <td>180637.0</td>\n      <td>2597.0</td>\n      <td>270642.0</td>\n      <td>13721858.0</td>\n    </tr>\n    <tr>\n      <th>57242</th>\n      <td>United States</td>\n      <td>200055.0</td>\n      <td>2804.0</td>\n      <td>273446.0</td>\n      <td>13921913.0</td>\n    </tr>\n    <tr>\n      <th>57243</th>\n      <td>United States</td>\n      <td>217664.0</td>\n      <td>2879.0</td>\n      <td>276325.0</td>\n      <td>14139577.0</td>\n    </tr>\n    <tr>\n      <th>57244</th>\n      <td>United States</td>\n      <td>227885.0</td>\n      <td>2607.0</td>\n      <td>278932.0</td>\n      <td>14367462.0</td>\n    </tr>\n    <tr>\n      <th>57245</th>\n      <td>United States</td>\n      <td>213875.0</td>\n      <td>2254.0</td>\n      <td>281186.0</td>\n      <td>14581337.0</td>\n    </tr>\n  </tbody>\n</table>\n<p>319 rows × 5 columns</p>\n</div>"
     },
     "metadata": {},
     "execution_count": 69
    }
   ],
   "source": [
    "df[['location','new_cases','new_deaths','total_deaths','total_cases']][df['total_cases'] == df['total_cases'].max()]\n",
    "df[['location','new_cases','new_deaths','total_deaths','total_cases']][df['location'] == 'United States']"
   ]
  },
  {
   "cell_type": "code",
   "execution_count": 76,
   "metadata": {},
   "outputs": [
    {
     "output_type": "execute_result",
     "data": {
      "text/plain": [
       "pandas._libs.tslibs.timestamps.Timestamp"
      ]
     },
     "metadata": {},
     "execution_count": 76
    }
   ],
   "source": [
    "df.head(3)\n",
    "type(df['date'][0])\n",
    "df = pd.read_csv('/home/kamran/Desktop/corona.csv', parse_dates=['date'],index='date') \n",
    "type(df['date'][0])\n",
    "df.fillna({\n",
    "    'date': df['date'].mode(),\n",
    "    'location': df['location'].mode(),\n",
    "    'new_cases': df['new_cases'].mean(),\n",
    "})\n",
    "df.fillna(method='ffill', limit=1) # OR bfill ie backward fill... ffill is forward fill\n",
    "df.interpolate(method='any column')\n",
    "df.dropna(how='all') # drop all row if all the values in the column is null\n",
    "df.dropna(thresh=1) # atleast one column value shouldn't be null"
   ]
  },
  {
   "cell_type": "code",
   "execution_count": 74,
   "metadata": {},
   "outputs": [
    {
     "output_type": "execute_result",
     "data": {
      "text/plain": [
       "         date     location  new_cases  new_deaths  total_cases  total_deaths  \\\n",
       "0  2020-01-23  Afghanistan        0.0         0.0          NaN           NaN   \n",
       "1  2020-01-24  Afghanistan        0.0         0.0          NaN           NaN   \n",
       "2  2020-01-25  Afghanistan        0.0         0.0          NaN           NaN   \n",
       "\n",
       "   weekly_cases  weekly_deaths  biweekly_cases  biweekly_deaths  \n",
       "0           NaN            NaN             NaN              NaN  \n",
       "1           NaN            NaN             NaN              NaN  \n",
       "2           NaN            NaN             NaN              NaN  "
      ],
      "text/html": "<div>\n<style scoped>\n    .dataframe tbody tr th:only-of-type {\n        vertical-align: middle;\n    }\n\n    .dataframe tbody tr th {\n        vertical-align: top;\n    }\n\n    .dataframe thead th {\n        text-align: right;\n    }\n</style>\n<table border=\"1\" class=\"dataframe\">\n  <thead>\n    <tr style=\"text-align: right;\">\n      <th></th>\n      <th>date</th>\n      <th>location</th>\n      <th>new_cases</th>\n      <th>new_deaths</th>\n      <th>total_cases</th>\n      <th>total_deaths</th>\n      <th>weekly_cases</th>\n      <th>weekly_deaths</th>\n      <th>biweekly_cases</th>\n      <th>biweekly_deaths</th>\n    </tr>\n  </thead>\n  <tbody>\n    <tr>\n      <th>0</th>\n      <td>2020-01-23</td>\n      <td>Afghanistan</td>\n      <td>0.0</td>\n      <td>0.0</td>\n      <td>NaN</td>\n      <td>NaN</td>\n      <td>NaN</td>\n      <td>NaN</td>\n      <td>NaN</td>\n      <td>NaN</td>\n    </tr>\n    <tr>\n      <th>1</th>\n      <td>2020-01-24</td>\n      <td>Afghanistan</td>\n      <td>0.0</td>\n      <td>0.0</td>\n      <td>NaN</td>\n      <td>NaN</td>\n      <td>NaN</td>\n      <td>NaN</td>\n      <td>NaN</td>\n      <td>NaN</td>\n    </tr>\n    <tr>\n      <th>2</th>\n      <td>2020-01-25</td>\n      <td>Afghanistan</td>\n      <td>0.0</td>\n      <td>0.0</td>\n      <td>NaN</td>\n      <td>NaN</td>\n      <td>NaN</td>\n      <td>NaN</td>\n      <td>NaN</td>\n      <td>NaN</td>\n    </tr>\n  </tbody>\n</table>\n</div>"
     },
     "metadata": {},
     "execution_count": 74
    }
   ],
   "source": [
    "df = pd.read_csv('/home/kamran/Desktop/corona.csv',nrows=3, na_values=['n.a.','not available'])\n",
    "#  OR\n",
    "df = pd.read_csv('/home/kamran/Desktop/corona.csv',nrows=3, \n",
    "na_values={'total_deaths':['n.a.','not available',-1],\n",
    "            'location':['n.a.','not available']})\n",
    "df.to_csv('new.csv', columns=['location','total_cases','total_deaths'])\n",
    "df.head()"
   ]
  },
  {
   "cell_type": "code",
   "execution_count": null,
   "metadata": {},
   "outputs": [],
   "source": [
    "def convert_cell(cell_entry):\n",
    "    if cell_entry == 'n.a':\n",
    "        return 'desired value you want to replacce n.a with'\n",
    "    return cell_entry\n",
    "df2 = pd.read_excel('/home/kamran/Desktop/new.xlsx','Sheet1',converter={\n",
    "    'column1':convert_cell,\n",
    "    'column2': convert_cell\n",
    "})\n",
    "df2.to_excel('new.xlsx',sheet_name='Stocks',startrow=1,startcol=2)"
   ]
  }
 ]
}